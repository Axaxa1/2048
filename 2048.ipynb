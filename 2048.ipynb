{
 "cells": [
  {
   "cell_type": "code",
   "execution_count": 1,
   "metadata": {
    "collapsed": true
   },
   "outputs": [],
   "source": [
    "#Librairies\n",
    "import numpy as np\n",
    "import random\n",
    "import matplotlib.pyplot as plt"
   ]
  },
  {
   "cell_type": "code",
   "execution_count": 4,
   "metadata": {
    "collapsed": true
   },
   "outputs": [],
   "source": [
    "#Game\n",
    "#Le jeu est stocké sous une forme de class\n",
    "class game:\n",
    "    \n",
    "    def __init__(self):\n",
    "        #Initialise la partie\n",
    "        #Variables\n",
    "        self.board = np.zeros((4,4),dtype=int)\n",
    "        self.spawnNumber()\n",
    "        \n",
    "    #def gameOver(self):\n",
    "    #    return not((self.board != 0).any())\n",
    "        \n",
    "    def spawnNumber(self):\n",
    "        #Spawn 2 or 4 in a rand spot\n",
    "        \n",
    "        #Number\n",
    "        # 1 2 3 4\n",
    "        # 5 6 7 8\n",
    "        # 9 10 11 12\n",
    "        # 13 14 15 16\n",
    "        empty_spot = []\n",
    "        for i in range(len(self.board)):\n",
    "            for j in range(len(self.board[i])):\n",
    "                if self.board[i][j] == 0:\n",
    "                    empty_spot.append((i,j))\n",
    "        \n",
    "        #Choose the empty spot\n",
    "        spot = random.choice(empty_spot)\n",
    "                    \n",
    "        #Choose 2 or 4\n",
    "        n = 2\n",
    "        if random.random() > 0.9:#90 chance of getting 2\n",
    "            n = 4\n",
    "        \n",
    "        self.board[spot] = n\n",
    "        \n",
    "    def move_up(self):\n",
    "        #Stack all number up\n",
    "        for j in range(len(self.board[0])):\n",
    "            new_c = []\n",
    "            for i in range(len(self.board)):\n",
    "                if self.board[i,j] != 0:\n",
    "                    new_c.append(self.board[i,j])\n",
    "                    self.board[i,j] = 0\n",
    "            if len(new_c)>=1:\n",
    "                while self.addable(new_c):\n",
    "                        new_c = self.add(new_c)\n",
    "            \n",
    "            for i in range(len(new_c)):\n",
    "                self.board[i,j] = new_c[i]\n",
    "                \n",
    "    def move_down(self):\n",
    "        #Stack all number down\n",
    "        for j in range(len(self.board[0])):\n",
    "            new_c = []\n",
    "            for i in range(len(self.board)-1,-1,-1):\n",
    "                if self.board[i,j] != 0:\n",
    "                    new_c.append(self.board[i,j])\n",
    "                    self.board[i,j] = 0\n",
    "            if len(new_c)>=1:\n",
    "                while self.addable(new_c):\n",
    "                        new_c = self.add(new_c)\n",
    "            \n",
    "            for i in range(len(new_c)):\n",
    "                self.board[len(self.board)-i-1,j] = new_c[i]\n",
    "                \n",
    "    def move_left(self):\n",
    "        for i in range(len(self.board)):\n",
    "            new_l = []\n",
    "            for j in range(len(self.board[0])):\n",
    "                if self.board[i,j] != 0:\n",
    "                    new_l.append(self.board[i,j])\n",
    "                    self.board[i,j] = 0\n",
    "                    \n",
    "            if len(new_l)>= 1:\n",
    "                while self.addable(new_l):\n",
    "                    new_l = self.add(new_l)\n",
    "                    \n",
    "            for j in range(len(new_l)):\n",
    "                self.board[i,j] = new_l[j]\n",
    "                \n",
    "    def move_right(self):\n",
    "        for i in range(len(self.board)):\n",
    "            new_l = []\n",
    "            for j in range(len(self.board[0])-1,-1,-1):\n",
    "                if self.board[i,j] != 0:\n",
    "                    new_l.append(self.board[i,j])\n",
    "                    self.board[i,j] = 0\n",
    "                    \n",
    "            if len(new_l)>= 1:\n",
    "                while self.addable(new_l):\n",
    "                    new_l = self.add(new_l)\n",
    "                    \n",
    "            for j in range(len(new_l)):\n",
    "                self.board[i,len(self.board[0])-1-j] = new_l[j]\n",
    "                \n",
    "    def addable(self,li):\n",
    "        #True if you can add numbers\n",
    "        a = li[0]\n",
    "        for i in range(1,len(li)):\n",
    "            b = li[i]\n",
    "            if a == b:\n",
    "                return True\n",
    "            a = b\n",
    "        return False\n",
    "    def add(self,li):\n",
    "        res = []\n",
    "        to_delete = -1\n",
    "        for i in range(len(li)-1):\n",
    "            if li[i] == li[i+1] and i != to_delete:\n",
    "                res.append(2*li[i])\n",
    "                to_delete = i+1\n",
    "            elif i!= to_delete:\n",
    "                res.append(li[i])\n",
    "        if to_delete != len(li)-1:\n",
    "            res.append(li[-1])\n",
    "        return res\n",
    "    \n",
    "    def play(self,move):\n",
    "        #if self.gameOver():\n",
    "        #    return (sum(sum(self.board)))\n",
    "        #else:\n",
    "        before_board = np.copy(self.board)\n",
    "        if move == 0:\n",
    "            self.move_left()\n",
    "        elif move == 1:\n",
    "            self.move_up()\n",
    "        elif move == 2:\n",
    "            self.move_right()\n",
    "        elif move == 3:\n",
    "            self.move_down()\n",
    "\n",
    "        if (before_board == self.board).all():\n",
    "            return False\n",
    "\n",
    "        self.spawnNumber()\n",
    "        return True\n",
    "                \n",
    "            "
   ]
  },
  {
   "cell_type": "code",
   "execution_count": 5,
   "metadata": {
    "scrolled": true
   },
   "outputs": [
    {
     "name": "stdout",
     "output_type": "stream",
     "text": [
      "False\n",
      "[[0 0 0 0]\n",
      " [0 0 0 0]\n",
      " [0 0 0 0]\n",
      " [0 0 0 2]]\n"
     ]
    }
   ],
   "source": [
    "jeu2 = game()\n",
    "jeu2.board\n",
    "print(jeu2.play(3))\n",
    "print(jeu2.board)"
   ]
  },
  {
   "cell_type": "code",
   "execution_count": 8,
   "metadata": {
    "collapsed": true
   },
   "outputs": [],
   "source": [
    "def random_moves(jeu):\n",
    "    while True:\n",
    "        moves = np.random.permutation(4)\n",
    "        i = 0\n",
    "        while i <= 3:\n",
    "            state = jeu.play(moves[i])\n",
    "            if not(state) and i == 3:\n",
    "                return sum(sum(jeu.board))\n",
    "            elif state:\n",
    "                i = 4\n",
    "            elif not(state):\n",
    "                i += 1\n",
    "    \n",
    "def random_games(n):\n",
    "    score = []\n",
    "    for i in range(n):\n",
    "        jeu = game()\n",
    "        score.append(random_moves(jeu))\n",
    "    return score\n",
    "\n",
    "def brutus_moves(jeu):\n",
    "    while True:\n",
    "        moves = [3,2,1,0]\n",
    "        i = 0\n",
    "        while i <= 3:\n",
    "            state = jeu.play(moves[i])\n",
    "            if not(state) and i == 3:\n",
    "                return sum(sum(jeu.board))\n",
    "            elif state:\n",
    "                i = 4\n",
    "            elif not(state):\n",
    "                i += 1\n",
    "                \n",
    "def brutus_games(n):\n",
    "    score = []\n",
    "    for i in range(n):\n",
    "        jeu = game()\n",
    "        score.append(brutus_moves(jeu))\n",
    "    return score"
   ]
  },
  {
   "cell_type": "code",
   "execution_count": 9,
   "metadata": {},
   "outputs": [
    {
     "name": "stdout",
     "output_type": "stream",
     "text": [
      "120 1112 495.002\n"
     ]
    }
   ],
   "source": [
    "scores = brutus_games(1000)\n",
    "print(min(scores),max(scores),np.mean(scores))"
   ]
  },
  {
   "cell_type": "code",
   "execution_count": 78,
   "metadata": {},
   "outputs": [],
   "source": [
    "def disp(jeu):\n",
    "    fig = plt.figure(figsize=(4,4))\n",
    "    gs = fig.add_gridspec(2, 2)\n",
    "    for i in range(2):\n",
    "        for j in range(2):\n",
    "            ax = fig.add_subplot(i+1,j+1,i+j+1,fc=\"red\")\n",
    "            ax.annotate(\"i\", (1., 1.), (0., 0.))\n",
    "    fig.show()"
   ]
  },
  {
   "cell_type": "code",
   "execution_count": 79,
   "metadata": {},
   "outputs": [
    {
     "name": "stderr",
     "output_type": "stream",
     "text": [
      "C:\\Users\\Alexis-Surface\\Anaconda3\\lib\\site-packages\\ipykernel_launcher.py:8: UserWarning: Matplotlib is currently using module://ipykernel.pylab.backend_inline, which is a non-GUI backend, so cannot show the figure.\n",
      "  \n",
      "C:\\Users\\Alexis-Surface\\Anaconda3\\lib\\site-packages\\ipykernel_launcher.py:3: RuntimeWarning: divide by zero encountered in log\n",
      "  This is separate from the ipykernel package so we can avoid doing imports until\n"
     ]
    },
    {
     "data": {
      "image/png": "[encoded data removed]",
      "text/plain": [
       "<Figure size 288x288 with 4 Axes>"
      ]
     },
     "metadata": {},
     "output_type": "display_data"
    },
    {
     "data": {
      "image/png": "[encoded data removed]",
      "text/plain": [
       "<Figure size 1152x144 with 1 Axes>"
      ]
     },
     "metadata": {},
     "output_type": "display_data"
    }
   ],
   "source": [
    "brutus_moves(jeu2)\n",
    "disp(jeu2)\n",
    "plt.matshow(np.log([[0,2,4,8,16,32,64,128,256,512,1024,2048]]),cmap='tab20c')\n",
    "plt.show()"
   ]
  },
  {
   "cell_type": "code",
   "execution_count": 43,
   "metadata": {},
   "outputs": [
    {
     "data": {
      "text/plain": [
       "array([[  2,   4,   8,  16],\n",
       "       [  4,   8,  16,  64],\n",
       "       [  8,  32,  64, 128],\n",
       "       [  2,   8, 128, 256]])"
      ]
     },
     "execution_count": 43,
     "metadata": {},
     "output_type": "execute_result"
    }
   ],
   "source": [
    "jeu2.board"
   ]
  }
 ],
 "metadata": {
  "kernelspec": {
   "display_name": "Python 3",
   "language": "python",
   "name": "python3"
  },
  "language_info": {
   "codemirror_mode": {
    "name": "ipython",
    "version": 3
   },
   "file_extension": ".py",
   "mimetype": "text/x-python",
   "name": "python",
   "nbconvert_exporter": "python",
   "pygments_lexer": "ipython3",
   "version": "3.6.8"
  }
 },
 "nbformat": 4,
 "nbformat_minor": 2
}
